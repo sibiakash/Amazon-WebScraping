{
 "cells": [
  {
   "cell_type": "code",
   "execution_count": 264,
   "id": "02055786",
   "metadata": {},
   "outputs": [],
   "source": [
    "from bs4 import BeautifulSoup\n",
    "import requests\n",
    "import time\n",
    "import datetime\n",
    "import smtplib \n",
    "import csv"
   ]
  },
  {
   "cell_type": "code",
   "execution_count": 268,
   "id": "51ab827e",
   "metadata": {},
   "outputs": [],
   "source": [
    "import datetime\n",
    "today = datetime.date.today()"
   ]
  },
  {
   "cell_type": "code",
   "execution_count": 227,
   "id": "7df12c83",
   "metadata": {},
   "outputs": [],
   "source": [
    "import csv\n",
    "\n",
    "header = ['title','price','date']\n",
    "data = [title,price,today]\n",
    "\n",
    "with open('Amazonbookdata.csv','w',newline= '', encoding = 'UTF8') as f:\n",
    "    writer = csv.writer(f)\n",
    "    writer.writerow(header)\n",
    "    writer.writerow(data)\n"
   ]
  },
  {
   "cell_type": "code",
   "execution_count": 429,
   "id": "946e15cd",
   "metadata": {},
   "outputs": [
    {
     "name": "stdout",
     "output_type": "stream",
     "text": [
      "Title: Smoke and Ashes: A Writer’s Journey through Opium’s Hidden Histories\n",
      "Price: 573.0\n",
      "['Smoke and Ashes: A Writer’s Journey through Opium’s Hidden Histories', 573.0, datetime.date(2023, 7, 21)]\n"
     ]
    }
   ],
   "source": [
    "def check_price():\n",
    "        url = 'https://www.amazon.in/Smoke-Ashes-Writers-Journey-Histories/dp/9356992754/ref=sr_1_3?keywords=amitav+ghosh&qid=1689919439&sr=8-3'\n",
    "        #headers = {\"User-Agent\": \"Mozilla/5.0 (Macintosh; Intel Mac OS X 10_15_7) AppleWebKit/605.1.15 (KHTML, like Gecko) Version/16.5 Safari/605.1.15\"}\n",
    "\n",
    "        page = requests.get(url, headers=headers)\n",
    "\n",
    "        soup = BeautifulSoup(page.content, 'html.parser')\n",
    "\n",
    "        title = soup.find(id=\"productTitle\")\n",
    "\n",
    "        if title:\n",
    "            title = title.text.strip()\n",
    "            print(\"Title:\", title)\n",
    "        else:\n",
    "            print(\"Title not found.\")\n",
    "\n",
    "        price = soup.find(class_=\"a-offscreen\")\n",
    "        if price:\n",
    "                price = price.text.strip()[1:]\n",
    "                price = float(price)\n",
    "                print(\"Price:\", price)\n",
    "        else:\n",
    "                print(\"Price not found.\")\n",
    "\n",
    "        import datetime\n",
    "        today = datetime.date.today()\n",
    "        \n",
    "        data = [title,price,today]\n",
    "        print(data)\n",
    "        \n",
    "        if price<500:\n",
    "            send_mail()\n",
    "        \n",
    "        \n",
    "        with open('Amazonbookdata.csv', 'a+', newline='', encoding='UTF8') as f:\n",
    "            writer = csv.writer(f)\n",
    "            writer.writerow(data)\n",
    "        \n",
    "check_price()"
   ]
  },
  {
   "cell_type": "code",
   "execution_count": 430,
   "id": "c7f91067",
   "metadata": {},
   "outputs": [
    {
     "name": "stdout",
     "output_type": "stream",
     "text": [
      "Title: Smoke and Ashes: A Writer’s Journey through Opium’s Hidden Histories\n",
      "Price: 573.0\n",
      "['Smoke and Ashes: A Writer’s Journey through Opium’s Hidden Histories', 573.0, datetime.date(2023, 7, 21)]\n"
     ]
    },
    {
     "ename": "KeyboardInterrupt",
     "evalue": "",
     "output_type": "error",
     "traceback": [
      "\u001b[0;31m---------------------------------------------------------------------------\u001b[0m",
      "\u001b[0;31mKeyboardInterrupt\u001b[0m                         Traceback (most recent call last)",
      "Cell \u001b[0;32mIn[430], line 3\u001b[0m\n\u001b[1;32m      1\u001b[0m \u001b[38;5;28;01mwhile\u001b[39;00m (\u001b[38;5;28;01mTrue\u001b[39;00m):\n\u001b[1;32m      2\u001b[0m     check_price()\n\u001b[0;32m----> 3\u001b[0m     \u001b[43mtime\u001b[49m\u001b[38;5;241;43m.\u001b[39;49m\u001b[43msleep\u001b[49m\u001b[43m(\u001b[49m\u001b[38;5;241;43m120\u001b[39;49m\u001b[43m)\u001b[49m\n",
      "\u001b[0;31mKeyboardInterrupt\u001b[0m: "
     ]
    }
   ],
   "source": [
    "while (True):\n",
    "    check_price()\n",
    "    time.sleep(120)\n",
    "    "
   ]
  },
  {
   "cell_type": "code",
   "execution_count": null,
   "id": "9c9e75ed",
   "metadata": {},
   "outputs": [],
   "source": [
    "def send_mail():\n",
    "    server = smtplib.SMTP('smtp.gmail.com',587)\n",
    "    server.ehlo()\n",
    "    server.starttls()\n",
    "    server.login('abc@gmail.com','zneluvwjomsbc')\n",
    "    subject = \"buy the book now!\"\n",
    "    body = \"sibi! the book is below 500...\\n url = https://www.amazon.in/Smoke-Ashes-Writers-Journey-Histories/dp/9356992754/ref=sr_1_3?keywords=amitav+ghosh&qid=1689919439&sr=8-3\"\n",
    "    msg = f\"subject: {subject}\\n\\n{body}\"\n",
    "    server.sendmail('abcr@gmail.com','xyz@gmail.com',msg)\n",
    "\n"
   ]
  }
 ],
 "metadata": {
  "kernelspec": {
   "display_name": "Python 3 (ipykernel)",
   "language": "python",
   "name": "python3"
  },
  "language_info": {
   "codemirror_mode": {
    "name": "ipython",
    "version": 3
   },
   "file_extension": ".py",
   "mimetype": "text/x-python",
   "name": "python",
   "nbconvert_exporter": "python",
   "pygments_lexer": "ipython3",
   "version": "3.10.9"
  }
 },
 "nbformat": 4,
 "nbformat_minor": 5
}
